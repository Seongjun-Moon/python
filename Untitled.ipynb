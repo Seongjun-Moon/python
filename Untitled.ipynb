{
 "cells": [
  {
   "cell_type": "markdown",
   "metadata": {},
   "source": [
    "# 파이선 기초\n",
    "### 저장\n",
    "- 어떻게\n",
    "- 어디에\n",
    "- 무엇을\n",
    "\n",
    "### 계산(조작)\n",
    "- 조건\n",
    "- 반복\n",
    "\n",
    "### 함수\n"
   ]
  },
  {
   "cell_type": "code",
   "execution_count": 1,
   "metadata": {},
   "outputs": [
    {
     "name": "stdout",
     "output_type": "stream",
     "text": [
      "hello\n"
     ]
    }
   ],
   "source": [
    "print('hello')"
   ]
  },
  {
   "cell_type": "markdown",
   "metadata": {},
   "source": [
    "## 저장\n",
    "\n",
    "### 어떻게('=')\n",
    "- '='\n",
    "\n",
    "### 무엇을(Data Type, 자료형)\n",
    "1. 숫자\n",
    "2. 글자\n",
    "3. 참,거짓\n",
    "\n",
    "#### 1. 숫자\n",
    "- 'int', 'float'\n"
   ]
  },
  {
   "cell_type": "code",
   "execution_count": 14,
   "metadata": {},
   "outputs": [
    {
     "name": "stdout",
     "output_type": "stream",
     "text": [
      "365\n"
     ]
    }
   ],
   "source": [
    "print(365)"
   ]
  },
  {
   "cell_type": "code",
   "execution_count": 3,
   "metadata": {},
   "outputs": [
    {
     "name": "stdout",
     "output_type": "stream",
     "text": [
      "2 7\n"
     ]
    }
   ],
   "source": [
    "print(2,7)"
   ]
  },
  {
   "cell_type": "markdown",
   "metadata": {},
   "source": [
    "#### 2.글자\n",
    "- 문자열 '',\"\""
   ]
  },
  {
   "cell_type": "markdown",
   "metadata": {},
   "source": [
    "#### 3. 참/거짓(boolean,불리언)\n",
    "- 'True', 'False'"
   ]
  },
  {
   "cell_type": "markdown",
   "metadata": {},
   "source": [
    "### 어디에(container)\n",
    "- 변수\n",
    "- 리스트-배열\n",
    "- 딕셔너리-오브젝트(key, value)\n",
    "\n",
    "#### 식별자(Identifier)\n",
    "변수명, 리스트명, 딕셔너리명\n",
    "\n",
    "#### 주석\n",
    "- `#` : 한 줄 주석\n",
    "- `\"\"\" \"\"\"` or `''' '''` :  여러줄 주석\n"
   ]
  },
  {
   "cell_type": "code",
   "execution_count": 13,
   "metadata": {},
   "outputs": [
    {
     "name": "stdout",
     "output_type": "stream",
     "text": [
      "['False', 'None', 'True', 'and', 'as', 'assert', 'async', 'await', 'break', 'class', 'continue', 'def', 'del', 'elif', 'else', 'except', 'finally', 'for', 'from', 'global', 'if', 'import', 'in', 'is', 'lambda', 'nonlocal', 'not', 'or', 'pass', 'raise', 'return', 'try', 'while', 'with', 'yield']\n"
     ]
    }
   ],
   "source": [
    "import keyword\n",
    "print (keyword.kwlist)\n",
    "\n",
    "# 변수명으로 쓰지 말아야 할 예약어들"
   ]
  },
  {
   "cell_type": "code",
   "execution_count": 29,
   "metadata": {},
   "outputs": [
    {
     "data": {
      "text/plain": [
       "123"
      ]
     },
     "execution_count": 29,
     "metadata": {},
     "output_type": "execute_result"
    }
   ],
   "source": [
    "str(123)\n",
    "int( '123')"
   ]
  },
  {
   "cell_type": "code",
   "execution_count": 17,
   "metadata": {},
   "outputs": [
    {
     "name": "stdout",
     "output_type": "stream",
     "text": [
      "hello\n"
     ]
    }
   ],
   "source": [
    "greeting = 'hello'\n",
    "print(greeting)"
   ]
  },
  {
   "cell_type": "code",
   "execution_count": 28,
   "metadata": {},
   "outputs": [
    {
     "data": {
      "text/plain": [
       "dict"
      ]
     },
     "execution_count": 28,
     "metadata": {},
     "output_type": "execute_result"
    }
   ],
   "source": [
    "type(greeting)\n",
    "type(1000)\n",
    "type(3.5)\n",
    "type([])\n",
    "type({})\n"
   ]
  },
  {
   "cell_type": "code",
   "execution_count": 32,
   "metadata": {},
   "outputs": [
    {
     "name": "stdout",
     "output_type": "stream",
     "text": [
      "1\n"
     ]
    }
   ],
   "source": [
    "arr = [1,2,3,4,5]\n",
    "print(arr[0])"
   ]
  },
  {
   "cell_type": "markdown",
   "metadata": {},
   "source": [
    "### 배열\n",
    "- negative index\n",
    "- slice"
   ]
  },
  {
   "cell_type": "code",
   "execution_count": 35,
   "metadata": {},
   "outputs": [
    {
     "name": "stdout",
     "output_type": "stream",
     "text": [
      "5\n",
      "[2, 3]\n"
     ]
    }
   ],
   "source": [
    "arr = [1,2,3,4,5]\n",
    "\n",
    "arr[0]\n",
    "print(arr[-1])\n",
    "\n",
    "# arr[시작인덱스(~부터): 끝인덱스(~전까지)]\n",
    "print(arr[1:3])"
   ]
  },
  {
   "cell_type": "markdown",
   "metadata": {},
   "source": [
    "### 배열\n",
    "#### method\n",
    "- `.append()` : `.push()`\n",
    "- `.count()` : 원소의 개수를 출력\n",
    "- `.index()` : `indexOf()`\n",
    "- `.pop()` : 마지막 요소가 return\n",
    "- `.insert()` : 요소를 삽입\n",
    "- `.remove()` : 요소를 삭제\n",
    "\n"
   ]
  },
  {
   "cell_type": "code",
   "execution_count": 44,
   "metadata": {},
   "outputs": [
    {
     "name": "stdout",
     "output_type": "stream",
     "text": [
      "[2, 3, 4, 5]\n"
     ]
    }
   ],
   "source": [
    "arr = [1,2,3,4,5]\n",
    "\n",
    "arr.remove(1)\n",
    "\n",
    "print(arr)"
   ]
  },
  {
   "cell_type": "markdown",
   "metadata": {},
   "source": [
    "#### 내장함수\n",
    "- `len()`\n",
    "- `max()`\n",
    "- `min()`\n",
    "- `sorted()`\n",
    "- `reversed()`"
   ]
  },
  {
   "cell_type": "code",
   "execution_count": 46,
   "metadata": {},
   "outputs": [
    {
     "name": "stdout",
     "output_type": "stream",
     "text": [
      "4\n",
      "4\n",
      "1\n",
      "[1, 2, 3, 4]\n",
      "[4, 3, 2, 1]\n"
     ]
    }
   ],
   "source": [
    "arr = [1,2,3,4]\n",
    "# print(dir(arr)) #arr에서 쓸 수 있는 메서드\n",
    "print(len(arr)) # 배열의 크기 구하는 len\n",
    "print(max(arr))\n",
    "print(min(arr))\n",
    "print(sorted(arr))\n",
    "print(list(reversed(arr)))"
   ]
  },
  {
   "cell_type": "markdown",
   "metadata": {},
   "source": [
    "## 조건 & 반복\n",
    "\n",
    "### 조건\n",
    "```js\n",
    "if(조건식){\n",
    "    표현식\n",
    "}\n",
    "```\n",
    "\n",
    "\n",
    "\n",
    "```py\n",
    "if 조건식:\n",
    "    표현식\n",
    "```\n",
    "\n",
    "- 조건식의 괄호 생략 가능\n",
    "- `{}`로 표현되던 표현식이 `:` 이후의 들여쓰기로 표현"
   ]
  },
  {
   "cell_type": "code",
   "execution_count": 51,
   "metadata": {},
   "outputs": [
    {
     "name": "stdout",
     "output_type": "stream",
     "text": [
      "짝수\n",
      "매우나쁨\n"
     ]
    }
   ],
   "source": [
    "# 홀수 판별\n",
    "n = 10\n",
    "if n%2 != 0:\n",
    "    print('홀수')\n",
    "else :\n",
    "    print('짝수')\n",
    "    \n",
    "dust = 180\n",
    "if dust > 150:\n",
    "    print('매우나쁨')\n",
    "elif dust >80:\n",
    "    print('나쁨')\n",
    "elif dust >30:\n",
    "    print('보통')\n",
    "else:\n",
    "    print('좋음')\n",
    "    "
   ]
  },
  {
   "cell_type": "markdown",
   "metadata": {},
   "source": [
    "### 반복문\n",
    "\n",
    "- `while()` : 조건이 충족될 때까지 계속해서 반복 Looping\n",
    "- `for` : 자료를 순회 Iteration"
   ]
  },
  {
   "cell_type": "code",
   "execution_count": 53,
   "metadata": {},
   "outputs": [
    {
     "name": "stdout",
     "output_type": "stream",
     "text": [
      "하이\n",
      "하이\n",
      "하이\n",
      "하이\n"
     ]
    }
   ],
   "source": [
    "n=0\n",
    "while n<4 :\n",
    "    print('하이')\n",
    "    n+=1\n"
   ]
  },
  {
   "cell_type": "markdown",
   "metadata": {},
   "source": [
    "``` javascript\n",
    "arr=[1,2,3,4,5]\n",
    "\n",
    "for (let i=0; i<arr.length; i++) {\n",
    "    console.log(arr[i]);\n",
    "}\n",
    "\n",
    "for (let e of arr) {\n",
    "    console.log(e)\n",
    "}\n",
    "     \n",
    "arr.forEach(e => {\n",
    "    console.log(e)\n",
    "}\n",
    "```"
   ]
  },
  {
   "cell_type": "code",
   "execution_count": 60,
   "metadata": {},
   "outputs": [
    {
     "name": "stdout",
     "output_type": "stream",
     "text": [
      "1\n",
      "2\n",
      "3\n",
      "4\n",
      "5\n",
      "1\n",
      "2\n",
      "3\n",
      "4\n",
      "5\n"
     ]
    }
   ],
   "source": [
    "\"\"\" 요소를 뽑는 코드\n",
    "for (let e of arr) {\n",
    "    console.log(e)\n",
    "}\n",
    "\"\"\"\n",
    "\n",
    "arr=[1,2,3,4,5]\n",
    "for e in arr:\n",
    "    print(e)\n",
    "    \n",
    "    \n",
    "# print(list(range(1, 5)))\n",
    "\"\"\" index를 다루는 코드\n",
    "for (let i=0; i<arr.length; i++) {\n",
    "    console.log(arr[i]);\n",
    "}\n",
    "\"\"\"\n",
    "for i in range(len(arr)):\n",
    "    # 0, 1, 2, 3, 4\n",
    "    print(arr[i])"
   ]
  }
 ],
 "metadata": {
  "kernelspec": {
   "display_name": "Python 3",
   "language": "python",
   "name": "python3"
  },
  "language_info": {
   "codemirror_mode": {
    "name": "ipython",
    "version": 3
   },
   "file_extension": ".py",
   "mimetype": "text/x-python",
   "name": "python",
   "nbconvert_exporter": "python",
   "pygments_lexer": "ipython3",
   "version": "3.8.3"
  }
 },
 "nbformat": 4,
 "nbformat_minor": 4
}
